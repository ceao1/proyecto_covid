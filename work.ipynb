{
 "cells": [
  {
   "cell_type": "code",
   "execution_count": 1,
   "source": [
    "import pandas as pd\n",
    "import requests\n",
    "import json\n",
    "import os\n",
    "from datetime import datetime\n",
    "from datetime import timedelta\n",
    "import time"
   ],
   "outputs": [],
   "metadata": {}
  },
  {
   "cell_type": "code",
   "execution_count": 4,
   "source": [
    "ayer = datetime.today() + timedelta(days=-1)\n",
    "for i in range(-1, 0):\n",
    "    time.sleep(2)\n",
    "    otro_dia = ayer + timedelta(days=i)\n",
    "    #convierto la fecha de hoy en el formato que lo acepta la consulta de api\n",
    "    #fecha = str(ayer.day) + '/' + str(ayer.month) + '/' + str(ayer.year) + ' 0:00:00'\n",
    "    fecha = str(otro_dia.day) + '/' + str(otro_dia.month) + '/' + str(otro_dia.year) + ' 0:00:00'\n",
    "    #se realiza la peticion al api para traer los datos de la fecha de hoy\n",
    "    resultado = requests.get(\"https://www.datos.gov.co/resource/gt2j-8ykr.json?$limit=100000&$where=(fecha_reporte_web=\"+\"'\"+fecha+\"')\")\n",
    "    #se crea una variable con el nombre con el que se guardaran los datos, en formato json\n",
    "    #nombre_archivo = str(ayer.date()).replace('-', '') + '.json'\n",
    "    nombre_archivo = str(otro_dia.date()).replace('-', '') + '.json'\n",
    "    #se crea la ruta para guardar el archivo\n",
    "    ruta_archivo = './data/data_cruda/' + nombre_archivo\n",
    "    #se crea el archivo con el nombre asociado al día descargado\n",
    "    with open(ruta_archivo, 'w') as fp:\n",
    "        json.dump(resultado.json(), fp)\n",
    "    "
   ],
   "outputs": [],
   "metadata": {}
  },
  {
   "cell_type": "code",
   "execution_count": 18,
   "source": [
    "os.chdir('./')\n",
    "\n",
    "with open('./data_resumida/resumen_20210721.csv', 'r') as fuente, open('consolidado.csv', 'a') as consolidado:\n",
    "    contador = 0\n",
    "    for line in fuente:\n",
    "        contador = contador + 1\n",
    "        if contador == 1:\n",
    "            continue\n",
    "        else:\n",
    "            consolidado.write(line)\n"
   ],
   "outputs": [],
   "metadata": {}
  }
 ],
 "metadata": {
  "orig_nbformat": 4,
  "language_info": {
   "name": "python",
   "version": "3.8.10",
   "mimetype": "text/x-python",
   "codemirror_mode": {
    "name": "ipython",
    "version": 3
   },
   "pygments_lexer": "ipython3",
   "nbconvert_exporter": "python",
   "file_extension": ".py"
  },
  "kernelspec": {
   "name": "python3",
   "display_name": "Python 3.8.10 64-bit"
  },
  "interpreter": {
   "hash": "916dbcbb3f70747c44a77c7bcd40155683ae19c65e1c03b4aa3499c5328201f1"
  }
 },
 "nbformat": 4,
 "nbformat_minor": 2
}